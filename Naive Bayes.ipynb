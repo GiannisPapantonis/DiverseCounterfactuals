{
 "cells": [
  {
   "cell_type": "code",
   "execution_count": null,
   "id": "ec2ea8cc",
   "metadata": {},
   "outputs": [],
   "source": [
    "import numpy as np\n",
    "import pandas as pd\n",
    "from sklearn.naive_bayes import CategoricalNB"
   ]
  },
  {
   "cell_type": "code",
   "execution_count": null,
   "id": "847f6ef0",
   "metadata": {},
   "outputs": [],
   "source": [
    "#read dataset\n",
    "names=['Class','handicapped-infants','water-project-cost-sharing','adoption-of-the-budget-resolution','physician-fee-freeze','el-salvador-aid','religious-groups-in-schools','anti-satellite-test-ban','aid-to-nicaraguan-contras','mx-missile','immigration','synfuels-corporation-cutback','education-spending','superfund-right-to-sue','crime','duty-free-exports','export-administration-act-south-africa']\n",
    "f=pd.read_csv('house-votes.csv', header=None,names=names)\n",
    "\n",
    "tr=f[names[1:]]\n",
    "tr=tr.values.astype(int)\n",
    "\n",
    "tar=f[['Class']]\n",
    "tar[tar['Class']=='republican']=0\n",
    "tar[tar['Class']=='democrat']=1\n",
    "tar=tar.values.astype(int)"
   ]
  },
  {
   "cell_type": "code",
   "execution_count": null,
   "id": "e5082350",
   "metadata": {},
   "outputs": [],
   "source": [
    "model = CategoricalNB()\n",
    "\n",
    "# Fit the model\n",
    "model.fit(tr, tar)"
   ]
  },
  {
   "cell_type": "code",
   "execution_count": null,
   "id": "32ed8068",
   "metadata": {},
   "outputs": [],
   "source": [
    "#Categories is a list. Its elements are lists that contain the values in each variables range, eg [[0,1],[1,2,3],...]\n",
    "def positive_rules_with_categorical(model,categories):\n",
    "    positive_rules=[]\n",
    "    import itertools\n",
    "    combinations = list(itertools.product(*categories))\n",
    "    for comb in combinations:\n",
    "        prediction= model.predict(np.array(comb).reshape(1, -1))[0]  \n",
    "        if(prediction==1):\n",
    "            numofvars= list(range(1,len(categories)+1))\n",
    "            positive_rules.append(list(map(lambda x: 'x'+str(numofvars.pop(0))+'='+str(x) ,comb)))\n",
    "    return positive_rules"
   ]
  },
  {
   "cell_type": "code",
   "execution_count": null,
   "id": "5b78ad91",
   "metadata": {},
   "outputs": [],
   "source": [
    "#call it with categorical names, eg x2\n",
    "def rewrite_categorical_rules(rules, cat_vars, cat_levels):\n",
    "    new_names=[]\n",
    "    for var in range(len(cat_vars)):\n",
    "        new_vars=[]\n",
    "        new_names.append(new_vars)\n",
    "        for i in range(cat_levels[var]):\n",
    "            new_vars.append(cat_vars[var]+'_'+str(i+1))\n",
    "        for rule in rules:\n",
    "            for feat in range(len(rule)):\n",
    "                v, value =  rule[feat].split('=',1)\n",
    "                if(cat_vars[var] == v):\n",
    "                    rule[feat]=new_vars[int(value)-1]+'=1'\n",
    "    return rules, new_names\n"
   ]
  },
  {
   "cell_type": "code",
   "execution_count": null,
   "id": "4438d86f",
   "metadata": {},
   "outputs": [],
   "source": [
    "#3o\n",
    "variable_names=names\n",
    "names_dict={k: v for k, v in zip(range(1,len(variable_names)+1),variable_names)}"
   ]
  },
  {
   "cell_type": "code",
   "execution_count": null,
   "id": "52485f28",
   "metadata": {},
   "outputs": [],
   "source": [
    "#import solver\n",
    "from ortools.linear_solver import pywraplp\n",
    "solver = pywraplp.Solver.CreateSolver('SCIP')"
   ]
  },
  {
   "cell_type": "code",
   "execution_count": null,
   "id": "0f88877e",
   "metadata": {},
   "outputs": [],
   "source": [
    "#cat_vars is a list with the names of the categorical variables\n",
    "#categories is a list where each element corresponds to the number of levels the corresponding categorical variable has\n",
    "#names_dict is a dictionary that has a numbering of the variables (defind above)\n",
    "def make_variables(names_dict,solver, cat_vars=[],categories=[]):\n",
    "    variables=[]\n",
    "    for var in names_dict.values():\n",
    "        if var in cat_vars:\n",
    "            index= cat_vars.index(var)\n",
    "            levels=categories[index]\n",
    "            num=list(names_dict.keys())[list(names_dict.values()).index(var)]      \n",
    "            for i in range(levels):\n",
    "                variables.append(solver.IntVar(0.0, 1.0, 'x'+str(num)+'_'+str(i+1)))\n",
    "        else:\n",
    "            num= list(names_dict.keys())[list(names_dict.values()).index(var)]\n",
    "            variables.append(solver.IntVar(0.0, 1.0, 'x'+str(num)))\n",
    "    return variables"
   ]
  },
  {
   "cell_type": "code",
   "execution_count": null,
   "id": "a8afaa6c",
   "metadata": {},
   "outputs": [],
   "source": [
    "#new_categorical_names is a list. Its elements are lists, each one having the new names for the introduced categorical variable\n",
    "#eg if the variable was x2, the element is [x2_1, x2_2,...]\n",
    "def add_categorical_constrs(new_categorical_names, solver, variables):\n",
    "    for new_name in new_categorical_names:\n",
    "        sum=0\n",
    "        for i in range(len(variables)):\n",
    "            if (variables[i].name() in new_name):\n",
    "                print(variables[i].name())\n",
    "                sum=sum+variables[i]\n",
    "        solver.Add(sum==1)"
   ]
  },
  {
   "cell_type": "code",
   "execution_count": 1,
   "id": "e34dbb95",
   "metadata": {},
   "outputs": [],
   "source": [
    "#diversity constraints\n",
    "#the 3 first are list of tuples: (feat, _constraint value)\n",
    "#must have initialized the optimization problem and all dicts and remaining constraints. This is the last step before solving!\n",
    "#cat_vars list with the original names, not x1, x2\n",
    "def diverse_counterfactual_constraints(eq_constrs, variables, cat_vars, solver):\n",
    "    for constr in eq_constrs:\n",
    "        feat, constr_val = constr\n",
    "\n",
    "        if (feat in cat_vars):\n",
    "            var=list(names_dict.keys())[list(names_dict.values()).index(feat)]\n",
    "            var_index=index_dict['x'+str(var)+'_'+str(constr_val)]\n",
    "            solver.Add(variables[var_index]==1)\n",
    "        else:\n",
    "            var=list(names_dict.keys())[list(names_dict.values()).index(feat)]\n",
    "            var_index=index_dict['x'+str(var)]\n",
    "            solver.Add(variables[var_index]==1)\n",
    "                \n"
   ]
  },
  {
   "cell_type": "code",
   "execution_count": null,
   "id": "c0609472",
   "metadata": {},
   "outputs": [],
   "source": [
    "#construct the left hand side of the constraints, assuming we use the positive polynomial\n",
    "#positiverules is the list of the modified rules\n",
    "#variables is the list with the optimization variables\n",
    "#counter_outcome is a binary variable, selecting what the counterfactual outcome should be.\n",
    "def add_constraints(positiverules, variables, counter_outcome, solver):\n",
    "    constrs=[]\n",
    "    num=0\n",
    "    for rule in positiverules:\n",
    "        sum=0\n",
    "        for feat in rule:\n",
    "            if (feat[-1]==\"0\"):\n",
    "                sum=sum + 1-variables[int(index_dict[feat.split('=',1)[0]])] #einai lathos auto!! prepei na to valw na pairnei ton arithmo, to teleutaio\n",
    "            else:                                     #pshfio den einai arketo! mporei na einai 2pshfios!\n",
    "                sum=sum + variables[int(index_dict[feat.split('=',1)[0]])]      #variables[int(''.join(filter(str.isdigit, feat.split('=',1)[0])))-1]  #int(''.join(filter(str.isdigit, feat.split('=',1)[0]))) auth einai mallon\n",
    "            num=num+1                                 #h lush!   variables[int(feat[1])-1]\n",
    "        constrs.append((sum,num))\n",
    "        num=0\n",
    "    \n",
    "    if(counter_outcome==0):\n",
    "        #add constraints to enforce negative outcome, using the positive polynomial (so all positive rules must be zero)\n",
    "        for const in constrs:\n",
    "            solver.Add(const[0] <= const[1]-1)\n",
    "    elif(counter_outcome==1):\n",
    "        #alternatively, these constraints enforce positive outcome (using the new result, having the positive polynomial equal 1)\n",
    "        sum=0\n",
    "        for const in constrs:\n",
    "            delta=solver.IntVar(0.0, 1.0, 'delta')\n",
    "            solver.Add(const[0] >= delta*const[1])\n",
    "            sum=sum+delta\n",
    "        solver.Add(sum==1)"
   ]
  },
  {
   "cell_type": "code",
   "execution_count": null,
   "id": "f759be1b",
   "metadata": {},
   "outputs": [],
   "source": [
    "#datapoint is the original datapoint\n",
    "#cat_vars is a list with the names of the categorical variables (the original ones, not x1, x2..)\n",
    "#categories is a list with elements the number of levels the corresponding categorical variable has\n",
    "#variable_names list with all the original names\n",
    "def make_actual_datapoint_with_categorical(datapoint, cat_vars=[],categories=[],variable_names=names):\n",
    "    actualdatapoint=[]\n",
    "    for i in range(len(datapoint)):\n",
    "        if variable_names[i] in cat_vars:\n",
    "            cat= datapoint[i]\n",
    "            index=cat_vars.index(variable_names[i])\n",
    "            for j in range(1,categories[index]+1):\n",
    "                if (j==cat):\n",
    "                    actualdatapoint.append(1)\n",
    "                    continue\n",
    "                actualdatapoint.append(0)\n",
    "        else:\n",
    "            actualdatapoint.append(datapoint[i])\n",
    "    data= np.array(actualdatapoint)\n",
    "    return data"
   ]
  },
  {
   "cell_type": "code",
   "execution_count": null,
   "id": "11a576b2",
   "metadata": {},
   "outputs": [],
   "source": [
    "#construct the objective function\n",
    "#actualdatapoint is the transformed datapoint, with the ctegorical variables\n",
    "#coeff are the corresponding coefficients\n",
    "#variables is the list with the optimization variables\n",
    "def make_objective(actualdatapoint, coeff, variables, solver):\n",
    "    obj=0\n",
    "    index=0\n",
    "    for feat in actualdatapoint:\n",
    "        if feat==0:\n",
    "            obj=obj+coeff[index]*variables[index]\n",
    "        else:\n",
    "            obj=obj+coeff[index]*(1-variables[index])\n",
    "        index=index+1\n",
    "    solver.Minimize(obj)"
   ]
  },
  {
   "cell_type": "code",
   "execution_count": null,
   "id": "06fa7609",
   "metadata": {},
   "outputs": [],
   "source": [
    "def make_counterfactual(solution,cat_vars=[]):\n",
    "    counterfactual=[]\n",
    "    for var in solution:\n",
    "        if ('_' in var.name()):\n",
    "            if (var.solution_value()==1):\n",
    "                variable, level=var.name().split('_',1) \n",
    "                counterfactual.append(int(level))\n",
    "        else:\n",
    "            counterfactual.append(int(var.solution_value()))\n",
    "    return np.array(counterfactual)"
   ]
  },
  {
   "cell_type": "code",
   "execution_count": null,
   "id": "87ddfe2d",
   "metadata": {},
   "outputs": [],
   "source": [
    "#names is a list with the original variale names\n",
    "def written_counterfactual(actualdatapoint, counterfactual, names):\n",
    "    changes=[]\n",
    "    for i in range(len(actualdatapoint)):\n",
    "        if (actualdatapoint[i]!=counterfactual[i]):\n",
    "            changes.append(names[i]+' = '+str(counterfactual[i]))\n",
    "    return changes"
   ]
  },
  {
   "cell_type": "code",
   "execution_count": null,
   "id": "adec86be",
   "metadata": {},
   "outputs": [],
   "source": [
    "def make_coefficients(dataset, cat_vars=[],categories=[],variable_names=names):\n",
    "    coeff=[]\n",
    "    for i in range(len(variable_names)):\n",
    "        if variable_names[i] in cat_vars:\n",
    "            index=cat_vars.index(variable_names[i])\n",
    "            masked_data= dataset[:,i]\n",
    "            n=len(masked_data)\n",
    "            for j in range(1,categories[index]+1):\n",
    "                category = masked_data[masked_data==j]\n",
    "                p=len(category)\n",
    "                p=p/n\n",
    "                variance=p*(1-p)\n",
    "                coeff.append(np.sqrt(variance))\n",
    "        else:\n",
    "            masked_data= dataset[:,i]\n",
    "            n=len(masked_data)\n",
    "            masked_data=masked_data[masked_data==1]\n",
    "            p=len(masked_data)\n",
    "            p=p/n\n",
    "            variance=p*(1-p)\n",
    "            coeff.append(np.sqrt(variance))\n",
    "    return np.array(coeff)"
   ]
  },
  {
   "cell_type": "code",
   "execution_count": null,
   "id": "3ac6a0c4",
   "metadata": {},
   "outputs": [],
   "source": [
    "counterfactuals=[]\n",
    "K=5\n",
    "\n",
    "indices = random.sample(range(len(tr)), K)\n",
    "exp_data=[tr[i] for i in sorted(indices)]\n",
    "exp_tar=[model.predict(exp_data[i].reshape(1, -1)) for i in range(len(exp_data))]\n",
    "\n",
    "for i in range(K):\n",
    "    datapoint = exp_data[i]\n",
    "    counter_outcome = 0 if exp_tar[i] == 1 else 1\n",
    "    \n",
    "    #initialize solver\n",
    "    solver = pywraplp.Solver.CreateSolver('SCIP')\n",
    "    \n",
    "    variables=make_variables(names_dict=names_dict,solver=solver, cat_vars=[],categories=[])\n",
    "    #new_categorical_names=[['x1_1','x1_2','x1_3','x1_4','x1_5','x1_6','x1_7','x1_8','x1_9'],['x2_1','x2_2','x2_3'],['x3_1','x3_2','x3_3','x3_4','x3_5','x3_6','x3_7','x3_8','x3_9','x3_10','x3_11','x3_12'],['x4_1','x4_2','x4_3','x4_4','x4_5','x4_6','x4_7','x4_8','x4_9','x4_10','x4_11','x4_12','x4_13'],['x6_1','x6_2','x6_3'],['x8_1','x8_2','x8_3','x8_4','x8_5']]\n",
    "    #add_categorical_constrs(new_categorical_names, solver, variables)\n",
    "    \n",
    "    index_dict={}\n",
    "    for i in range(len(variables)):\n",
    "        index_dict[variables[i].name()]=i\n",
    "    print('mphka 4')\n",
    "    add_constraints(positive_rules, variables, counter_outcome, solver)\n",
    "    new_datapoint=make_actual_datapoint_with_categorical(datapoint, cat_vars=[],categories=[],variable_names=names)\n",
    "    print('mphka 5')\n",
    "    coeff=make_coefficients(tr, cat_vars=[],categories=[],variable_names=names)\n",
    "    make_objective(new_datapoint, coeff, variables, solver)\n",
    "    print('mphka 6')\n",
    "    status = solver.Solve()\n",
    "    print('mphka 7')\n",
    "    cntr=make_counterfactual(variables)\n",
    "    counterfactual=written_counterfactual(new_datapoint, cntr, names)\n",
    "    counterfactuals.append(counterfactual)"
   ]
  }
 ],
 "metadata": {
  "kernelspec": {
   "display_name": "Python 3 (ipykernel)",
   "language": "python",
   "name": "python3"
  },
  "language_info": {
   "codemirror_mode": {
    "name": "ipython",
    "version": 3
   },
   "file_extension": ".py",
   "mimetype": "text/x-python",
   "name": "python",
   "nbconvert_exporter": "python",
   "pygments_lexer": "ipython3",
   "version": "3.10.9"
  }
 },
 "nbformat": 4,
 "nbformat_minor": 5
}
